{
  "nbformat": 4,
  "nbformat_minor": 0,
  "metadata": {
    "colab": {
      "provenance": [],
      "authorship_tag": "ABX9TyOHRv9cFc7ZIPRDdHxNYBM0",
      "include_colab_link": true
    },
    "kernelspec": {
      "name": "python3",
      "display_name": "Python 3"
    },
    "language_info": {
      "name": "python"
    }
  },
  "cells": [
    {
      "cell_type": "markdown",
      "metadata": {
        "id": "view-in-github",
        "colab_type": "text"
      },
      "source": [
        "<a href=\"https://colab.research.google.com/github/everestso/Fall24Spring25/blob/main/6_9_LAB_Neural_networks_in_Keras.ipynb\" target=\"_parent\"><img src=\"https://colab.research.google.com/assets/colab-badge.svg\" alt=\"Open In Colab\"/></a>"
      ]
    },
    {
      "cell_type": "markdown",
      "source": [
        "The diamonds.csv dataset contains the price, cut, color, and other characteristics of a sample of diamonds. The dataframe X contains all the features except cut, color, clarity, and price. The dataframe y contains the feature price. Using the Keras workflow, implement a neural net regressor in TensorFlow to predict price.\n",
        "\n",
        "- Set the backend using tensorflow.\n",
        "- Define the model structure using keras.Sequential:\n",
        "  - The input layer has shape=(6, ).\n",
        "  - Hidden layer 1 has 256 nodes and relu activation.\n",
        "  - Hidden layer 2 had 128 nodes and linear activation.\n",
        "  - Hidden layer 3 has 64 nodes and linear activation.\n",
        "  - The output layer has 1 node (for regression) and linear activation.\n",
        "\n",
        "- Specify training choices using the compile method, with optimizer='Adam', loss='MeanSquaredError', and metrics='mse'.\n",
        "- Train the model with a batch size of 100, 5 epochs, validation_split=0.1, and verbose=0.\n",
        "\n",
        "Ex: If a linear activation function is used in the first hidden layer instead of relu, the output is:\n",
        "\n",
        "```\n",
        "\n",
        "Model: \"sequential\"\n",
        "_________________________________________________________________\n",
        " Layer (type)                Output Shape              Param #   \n",
        "=================================================================\n",
        " dense (Dense)               (None, 256)               1792      \n",
        "\n",
        " dense_1 (Dense)             (None, 128)               32896     \n",
        "\n",
        " dense_2 (Dense)             (None, 64)                8256      \n",
        "\n",
        " dense_3 (Dense)             (None, 1)                 65        \n",
        "\n",
        "=================================================================\n",
        "Total params: 43,009\n",
        "Trainable params: 43,009\n",
        "Non-trainable params: 0\n",
        "_________________________________________________________________\n",
        "None\n",
        "Predictions: [[4891.566]\n",
        " [5190.253]\n",
        " [4927.398]]\n",
        "Actual values:        price\n",
        "11049    596\n",
        "27577  18407\n",
        "45498   1680\n",
        "```"
      ],
      "metadata": {
        "id": "-NrGxheBab0N"
      }
    },
    {
      "cell_type": "code",
      "source": [
        "#https://drive.google.com/file/d/1cBOLspDZIEL_vRNQ9ozXUkYMkPBGZqVv/view?usp=drive_link\n",
        "\n",
        "!gdown 1cBOLspDZIEL_vRNQ9ozXUkYMkPBGZqVv"
      ],
      "metadata": {
        "colab": {
          "base_uri": "https://localhost:8080/"
        },
        "id": "RLw4LsXobZNH",
        "outputId": "79f2f219-67bb-4596-eac4-1f951cd9d9af"
      },
      "execution_count": 1,
      "outputs": [
        {
          "output_type": "stream",
          "name": "stdout",
          "text": [
            "Downloading...\n",
            "From: https://drive.google.com/uc?id=1cBOLspDZIEL_vRNQ9ozXUkYMkPBGZqVv\n",
            "To: /content/diamonds.csv\n",
            "\r  0% 0.00/2.57M [00:00<?, ?B/s]\r100% 2.57M/2.57M [00:00<00:00, 53.0MB/s]\n"
          ]
        }
      ]
    },
    {
      "cell_type": "code",
      "execution_count": null,
      "metadata": {
        "id": "K9-jSvZ5aK4b"
      },
      "outputs": [],
      "source": [
        "import numpy as np\n",
        "import pandas as pd\n",
        "from sklearn.model_selection import train_test_split\n",
        "import os\n",
        "\n",
        "# Set the backend using tensorflow\n",
        "# Your code here\n",
        "\n",
        "# Suppress tensorflow INFO messages\n",
        "os.environ['TF_CPP_MIN_LOG_LEVEL'] = '1'\n",
        "\n",
        "# The backend must be set before importing keras, not after\n",
        "import keras\n",
        "keras.utils.set_random_seed(812)\n",
        "\n",
        "df = pd.read_csv('diamonds.csv')\n",
        "diamond_sample = df.sample(1000, random_state=12)\n",
        "\n",
        "X = diamond_sample.drop(columns=['cut', 'color', 'clarity', 'price'])\n",
        "y = diamond_sample[['price']]\n",
        "\n",
        "Xtrain, Xtest, ytrain, ytest = train_test_split(X, y, test_size=0.3)\n",
        "\n",
        "# Define the model structure using keras.Sequential. The input layer has shape=(6, ), hidden layer 1 has\n",
        "# 256 nodes and relu activation, hidden layer 2 had 128 nodes and linear activation, hidden layer 3 has\n",
        "# 64 nodes and linear activation, and the output layer has 1 node (for regression) and linear activation\n",
        "\n",
        "# Your code here\n",
        "\n",
        "# Include line_length=80 in model.summary() to format width of printed output\n",
        "print(model.summary(line_length=80))\n",
        "\n",
        "\n",
        "# Specify training choices using the compile method, with optimizer='Adam', loss='MeanSquaredError',\n",
        "# metrics='mse'\n",
        "# Your code here\n",
        "\n",
        "# Train the model with a batch size of 100, 5 epochs, validation_split=0.1, and verbose=0\n",
        "# Your code here\n",
        "\n",
        "predictions = model.predict(Xtest[:3], verbose=0)\n",
        "print('Predictions:', predictions.round(3))\n",
        "print('Actual values:', ytest[:3])"
      ]
    }
  ]
}