{
  "cells": [
    {
      "cell_type": "markdown",
      "metadata": {
        "id": "view-in-github",
        "colab_type": "text"
      },
      "source": [
        "<a href=\"https://colab.research.google.com/github/everestso/Fall24Spring25/blob/main/c167f24_TorchGrad_L3.ipynb\" target=\"_parent\"><img src=\"https://colab.research.google.com/assets/colab-badge.svg\" alt=\"Open In Colab\"/></a>"
      ]
    },
    {
      "cell_type": "markdown",
      "source": [
        "# TORCH Gradients"
      ],
      "metadata": {
        "id": "ai_zAbwsbE7I"
      }
    },
    {
      "cell_type": "code",
      "source": [
        "!pip install torchviz"
      ],
      "metadata": {
        "colab": {
          "base_uri": "https://localhost:8080/"
        },
        "id": "1GP4pszdcxw3",
        "outputId": "c2aee5c8-9d90-4970-f630-25effa0bf31a"
      },
      "execution_count": 3,
      "outputs": [
        {
          "output_type": "stream",
          "name": "stdout",
          "text": [
            "Collecting torchviz\n",
            "  Downloading torchviz-0.0.2.tar.gz (4.9 kB)\n",
            "  Preparing metadata (setup.py) ... \u001b[?25l\u001b[?25hdone\n",
            "Requirement already satisfied: torch in /usr/local/lib/python3.10/dist-packages (from torchviz) (2.4.1+cu121)\n",
            "Requirement already satisfied: graphviz in /usr/local/lib/python3.10/dist-packages (from torchviz) (0.20.3)\n",
            "Requirement already satisfied: filelock in /usr/local/lib/python3.10/dist-packages (from torch->torchviz) (3.16.1)\n",
            "Requirement already satisfied: typing-extensions>=4.8.0 in /usr/local/lib/python3.10/dist-packages (from torch->torchviz) (4.12.2)\n",
            "Requirement already satisfied: sympy in /usr/local/lib/python3.10/dist-packages (from torch->torchviz) (1.13.3)\n",
            "Requirement already satisfied: networkx in /usr/local/lib/python3.10/dist-packages (from torch->torchviz) (3.3)\n",
            "Requirement already satisfied: jinja2 in /usr/local/lib/python3.10/dist-packages (from torch->torchviz) (3.1.4)\n",
            "Requirement already satisfied: fsspec in /usr/local/lib/python3.10/dist-packages (from torch->torchviz) (2024.6.1)\n",
            "Requirement already satisfied: MarkupSafe>=2.0 in /usr/local/lib/python3.10/dist-packages (from jinja2->torch->torchviz) (2.1.5)\n",
            "Requirement already satisfied: mpmath<1.4,>=1.1.0 in /usr/local/lib/python3.10/dist-packages (from sympy->torch->torchviz) (1.3.0)\n",
            "Building wheels for collected packages: torchviz\n",
            "  Building wheel for torchviz (setup.py) ... \u001b[?25l\u001b[?25hdone\n",
            "  Created wheel for torchviz: filename=torchviz-0.0.2-py3-none-any.whl size=4132 sha256=64e36428d3787f8675f22d6fd420bd4388f3a8f7ff59458dbdd1b5262d523df3\n",
            "  Stored in directory: /root/.cache/pip/wheels/4c/97/88/a02973217949e0db0c9f4346d154085f4725f99c4f15a87094\n",
            "Successfully built torchviz\n",
            "Installing collected packages: torchviz\n",
            "Successfully installed torchviz-0.0.2\n"
          ]
        }
      ]
    },
    {
      "cell_type": "code",
      "execution_count": 4,
      "metadata": {
        "id": "Ns061pG_ft5L"
      },
      "outputs": [],
      "source": [
        "import torch\n",
        "from torchviz import make_dot"
      ]
    },
    {
      "cell_type": "code",
      "source": [
        "x1 = torch.Tensor([2.0]).double()                ; x1.requires_grad = True\n",
        "x2 = torch.Tensor([0.0]).double()                ; x2.requires_grad = True\n",
        "w1 = torch.Tensor([-3.0]).double()               ; w1.requires_grad = True\n",
        "w2 = torch.Tensor([1.0]).double()                ; w2.requires_grad = True\n",
        "b = torch.Tensor([7.0]).double()  ; b.requires_grad = True\n",
        "n = x1*w1 + x2*w2 + b\n",
        "\n",
        "print(n)"
      ],
      "metadata": {
        "colab": {
          "base_uri": "https://localhost:8080/"
        },
        "id": "AR2-Ej5Qa0wY",
        "outputId": "9d9a20bd-03c5-494f-8a18-8245754d2965"
      },
      "execution_count": 5,
      "outputs": [
        {
          "output_type": "stream",
          "name": "stdout",
          "text": [
            "tensor([1.], dtype=torch.float64, grad_fn=<AddBackward0>)\n"
          ]
        }
      ]
    },
    {
      "cell_type": "code",
      "source": [
        "dot = make_dot(n, params={\n",
        "    'x1': x1,\n",
        "    'x2': x2,\n",
        "    'w1': w1,\n",
        "    'w2': w2,\n",
        "    'b': b,\n",
        "    'n': n\n",
        "}, show_attrs=True)\n",
        "print(f'{x1.data.item()=}')\n",
        "print(f'{x2.data.item()=}')\n",
        "print(f'{w1.data.item()=}')\n",
        "print(f'{w2.data.item()=}')\n",
        "print(f'{b.data.item()=}')\n",
        "print(f'{n.data.item()=}')\n",
        "dot.render(\"torch_graph\", format=\"png\")\n",
        "dot"
      ],
      "metadata": {
        "colab": {
          "base_uri": "https://localhost:8080/",
          "height": 660
        },
        "id": "FTZvS8-bcYR_",
        "outputId": "8636c5cc-c9aa-4929-8655-443427f5f3d6"
      },
      "execution_count": 6,
      "outputs": [
        {
          "output_type": "stream",
          "name": "stdout",
          "text": [
            "x1.data.item()=2.0\n",
            "x2.data.item()=0.0\n",
            "w1.data.item()=-3.0\n",
            "w2.data.item()=1.0\n",
            "b.data.item()=7.0\n",
            "n.data.item()=1.0\n"
          ]
        },
        {
          "output_type": "execute_result",
          "data": {
            "image/svg+xml": "<?xml version=\"1.0\" encoding=\"UTF-8\" standalone=\"no\"?>\n<!DOCTYPE svg PUBLIC \"-//W3C//DTD SVG 1.1//EN\"\n \"http://www.w3.org/Graphics/SVG/1.1/DTD/svg11.dtd\">\n<!-- Generated by graphviz version 2.43.0 (0)\n -->\n<!-- Title: %3 Pages: 1 -->\n<svg width=\"493pt\" height=\"401pt\"\n viewBox=\"0.00 0.00 493.00 401.00\" xmlns=\"http://www.w3.org/2000/svg\" xmlns:xlink=\"http://www.w3.org/1999/xlink\">\n<g id=\"graph0\" class=\"graph\" transform=\"scale(1 1) rotate(0) translate(4 397)\">\n<title>%3</title>\n<polygon fill=\"white\" stroke=\"transparent\" points=\"-4,4 -4,-397 489,-397 489,4 -4,4\"/>\n<!-- 137076426776448 -->\n<g id=\"node1\" class=\"node\">\n<title>137076426776448</title>\n<polygon fill=\"#caff70\" stroke=\"black\" points=\"402.5,-30 348.5,-30 348.5,0 402.5,0 402.5,-30\"/>\n<text text-anchor=\"middle\" x=\"375.5\" y=\"-18\" font-family=\"monospace\" font-size=\"10.00\">n</text>\n<text text-anchor=\"middle\" x=\"375.5\" y=\"-7\" font-family=\"monospace\" font-size=\"10.00\"> (1)</text>\n</g>\n<!-- 137076426742400 -->\n<g id=\"node2\" class=\"node\">\n<title>137076426742400</title>\n<polygon fill=\"lightgrey\" stroke=\"black\" points=\"420,-107 331,-107 331,-66 420,-66 420,-107\"/>\n<text text-anchor=\"middle\" x=\"375.5\" y=\"-95\" font-family=\"monospace\" font-size=\"10.00\">AddBackward0</text>\n<text text-anchor=\"middle\" x=\"375.5\" y=\"-84\" font-family=\"monospace\" font-size=\"10.00\">&#45;&#45;&#45;&#45;&#45;&#45;&#45;&#45;&#45;&#45;&#45;&#45;</text>\n<text text-anchor=\"middle\" x=\"375.5\" y=\"-73\" font-family=\"monospace\" font-size=\"10.00\">alpha: 1</text>\n</g>\n<!-- 137076426742400&#45;&gt;137076426776448 -->\n<g id=\"edge14\" class=\"edge\">\n<title>137076426742400&#45;&gt;137076426776448</title>\n<path fill=\"none\" stroke=\"black\" d=\"M375.5,-65.77C375.5,-57.85 375.5,-48.63 375.5,-40.3\"/>\n<polygon fill=\"black\" stroke=\"black\" points=\"379,-40.04 375.5,-30.04 372,-40.04 379,-40.04\"/>\n</g>\n<!-- 137076426741776 -->\n<g id=\"node3\" class=\"node\">\n<title>137076426741776</title>\n<polygon fill=\"lightgrey\" stroke=\"black\" points=\"364,-184 275,-184 275,-143 364,-143 364,-184\"/>\n<text text-anchor=\"middle\" x=\"319.5\" y=\"-172\" font-family=\"monospace\" font-size=\"10.00\">AddBackward0</text>\n<text text-anchor=\"middle\" x=\"319.5\" y=\"-161\" font-family=\"monospace\" font-size=\"10.00\">&#45;&#45;&#45;&#45;&#45;&#45;&#45;&#45;&#45;&#45;&#45;&#45;</text>\n<text text-anchor=\"middle\" x=\"319.5\" y=\"-150\" font-family=\"monospace\" font-size=\"10.00\">alpha: 1</text>\n</g>\n<!-- 137076426741776&#45;&gt;137076426742400 -->\n<g id=\"edge1\" class=\"edge\">\n<title>137076426741776&#45;&gt;137076426742400</title>\n<path fill=\"none\" stroke=\"black\" d=\"M334.21,-142.79C340.52,-134.35 347.99,-124.35 354.83,-115.18\"/>\n<polygon fill=\"black\" stroke=\"black\" points=\"357.71,-117.18 360.88,-107.07 352.1,-112.99 357.71,-117.18\"/>\n</g>\n<!-- 137076426742496 -->\n<g id=\"node4\" class=\"node\">\n<title>137076426742496</title>\n<polygon fill=\"lightgrey\" stroke=\"black\" points=\"230,-272 87,-272 87,-220 230,-220 230,-272\"/>\n<text text-anchor=\"middle\" x=\"158.5\" y=\"-260\" font-family=\"monospace\" font-size=\"10.00\">MulBackward0</text>\n<text text-anchor=\"middle\" x=\"158.5\" y=\"-249\" font-family=\"monospace\" font-size=\"10.00\">&#45;&#45;&#45;&#45;&#45;&#45;&#45;&#45;&#45;&#45;&#45;&#45;&#45;&#45;&#45;&#45;&#45;&#45;&#45;&#45;&#45;</text>\n<text text-anchor=\"middle\" x=\"158.5\" y=\"-238\" font-family=\"monospace\" font-size=\"10.00\">other: [saved tensor]</text>\n<text text-anchor=\"middle\" x=\"158.5\" y=\"-227\" font-family=\"monospace\" font-size=\"10.00\">self : [saved tensor]</text>\n</g>\n<!-- 137076426742496&#45;&gt;137076426741776 -->\n<g id=\"edge2\" class=\"edge\">\n<title>137076426742496&#45;&gt;137076426741776</title>\n<path fill=\"none\" stroke=\"black\" d=\"M208.56,-219.97C228.56,-209.97 251.5,-198.5 271.31,-188.59\"/>\n<polygon fill=\"black\" stroke=\"black\" points=\"273.09,-191.62 280.47,-184.02 269.96,-185.36 273.09,-191.62\"/>\n</g>\n<!-- 137076426739040 -->\n<g id=\"node5\" class=\"node\">\n<title>137076426739040</title>\n<polygon fill=\"lightgrey\" stroke=\"black\" points=\"101,-327 0,-327 0,-308 101,-308 101,-327\"/>\n<text text-anchor=\"middle\" x=\"50.5\" y=\"-315\" font-family=\"monospace\" font-size=\"10.00\">AccumulateGrad</text>\n</g>\n<!-- 137076426739040&#45;&gt;137076426742496 -->\n<g id=\"edge3\" class=\"edge\">\n<title>137076426739040&#45;&gt;137076426742496</title>\n<path fill=\"none\" stroke=\"black\" d=\"M63.74,-307.98C75.54,-300.38 93.55,-288.8 110.71,-277.75\"/>\n<polygon fill=\"black\" stroke=\"black\" points=\"113.05,-280.41 119.57,-272.05 109.26,-274.52 113.05,-280.41\"/>\n</g>\n<!-- 137076426775888 -->\n<g id=\"node6\" class=\"node\">\n<title>137076426775888</title>\n<polygon fill=\"lightblue\" stroke=\"black\" points=\"77.5,-393 23.5,-393 23.5,-363 77.5,-363 77.5,-393\"/>\n<text text-anchor=\"middle\" x=\"50.5\" y=\"-381\" font-family=\"monospace\" font-size=\"10.00\">x1</text>\n<text text-anchor=\"middle\" x=\"50.5\" y=\"-370\" font-family=\"monospace\" font-size=\"10.00\"> (1)</text>\n</g>\n<!-- 137076426775888&#45;&gt;137076426739040 -->\n<g id=\"edge4\" class=\"edge\">\n<title>137076426775888&#45;&gt;137076426739040</title>\n<path fill=\"none\" stroke=\"black\" d=\"M50.5,-362.84C50.5,-355.21 50.5,-345.7 50.5,-337.45\"/>\n<polygon fill=\"black\" stroke=\"black\" points=\"54,-337.27 50.5,-327.27 47,-337.27 54,-337.27\"/>\n</g>\n<!-- 137076426745856 -->\n<g id=\"node7\" class=\"node\">\n<title>137076426745856</title>\n<polygon fill=\"lightgrey\" stroke=\"black\" points=\"220,-327 119,-327 119,-308 220,-308 220,-327\"/>\n<text text-anchor=\"middle\" x=\"169.5\" y=\"-315\" font-family=\"monospace\" font-size=\"10.00\">AccumulateGrad</text>\n</g>\n<!-- 137076426745856&#45;&gt;137076426742496 -->\n<g id=\"edge5\" class=\"edge\">\n<title>137076426745856&#45;&gt;137076426742496</title>\n<path fill=\"none\" stroke=\"black\" d=\"M168.15,-307.98C167.1,-301.36 165.58,-291.71 164.04,-282.03\"/>\n<polygon fill=\"black\" stroke=\"black\" points=\"167.49,-281.38 162.47,-272.05 160.57,-282.48 167.49,-281.38\"/>\n</g>\n<!-- 137076426776128 -->\n<g id=\"node8\" class=\"node\">\n<title>137076426776128</title>\n<polygon fill=\"lightblue\" stroke=\"black\" points=\"196.5,-393 142.5,-393 142.5,-363 196.5,-363 196.5,-393\"/>\n<text text-anchor=\"middle\" x=\"169.5\" y=\"-381\" font-family=\"monospace\" font-size=\"10.00\">w1</text>\n<text text-anchor=\"middle\" x=\"169.5\" y=\"-370\" font-family=\"monospace\" font-size=\"10.00\"> (1)</text>\n</g>\n<!-- 137076426776128&#45;&gt;137076426745856 -->\n<g id=\"edge6\" class=\"edge\">\n<title>137076426776128&#45;&gt;137076426745856</title>\n<path fill=\"none\" stroke=\"black\" d=\"M169.5,-362.84C169.5,-355.21 169.5,-345.7 169.5,-337.45\"/>\n<polygon fill=\"black\" stroke=\"black\" points=\"173,-337.27 169.5,-327.27 166,-337.27 173,-337.27\"/>\n</g>\n<!-- 137076426741968 -->\n<g id=\"node9\" class=\"node\">\n<title>137076426741968</title>\n<polygon fill=\"lightgrey\" stroke=\"black\" points=\"391,-272 248,-272 248,-220 391,-220 391,-272\"/>\n<text text-anchor=\"middle\" x=\"319.5\" y=\"-260\" font-family=\"monospace\" font-size=\"10.00\">MulBackward0</text>\n<text text-anchor=\"middle\" x=\"319.5\" y=\"-249\" font-family=\"monospace\" font-size=\"10.00\">&#45;&#45;&#45;&#45;&#45;&#45;&#45;&#45;&#45;&#45;&#45;&#45;&#45;&#45;&#45;&#45;&#45;&#45;&#45;&#45;&#45;</text>\n<text text-anchor=\"middle\" x=\"319.5\" y=\"-238\" font-family=\"monospace\" font-size=\"10.00\">other: [saved tensor]</text>\n<text text-anchor=\"middle\" x=\"319.5\" y=\"-227\" font-family=\"monospace\" font-size=\"10.00\">self : [saved tensor]</text>\n</g>\n<!-- 137076426741968&#45;&gt;137076426741776 -->\n<g id=\"edge7\" class=\"edge\">\n<title>137076426741968&#45;&gt;137076426741776</title>\n<path fill=\"none\" stroke=\"black\" d=\"M319.5,-219.97C319.5,-211.86 319.5,-202.78 319.5,-194.35\"/>\n<polygon fill=\"black\" stroke=\"black\" points=\"323,-194.15 319.5,-184.15 316,-194.15 323,-194.15\"/>\n</g>\n<!-- 137076426741872 -->\n<g id=\"node10\" class=\"node\">\n<title>137076426741872</title>\n<polygon fill=\"lightgrey\" stroke=\"black\" points=\"360,-327 259,-327 259,-308 360,-308 360,-327\"/>\n<text text-anchor=\"middle\" x=\"309.5\" y=\"-315\" font-family=\"monospace\" font-size=\"10.00\">AccumulateGrad</text>\n</g>\n<!-- 137076426741872&#45;&gt;137076426741968 -->\n<g id=\"edge8\" class=\"edge\">\n<title>137076426741872&#45;&gt;137076426741968</title>\n<path fill=\"none\" stroke=\"black\" d=\"M310.73,-307.98C311.68,-301.36 313.07,-291.71 314.46,-282.03\"/>\n<polygon fill=\"black\" stroke=\"black\" points=\"317.94,-282.45 315.9,-272.05 311.01,-281.45 317.94,-282.45\"/>\n</g>\n<!-- 137076426775968 -->\n<g id=\"node11\" class=\"node\">\n<title>137076426775968</title>\n<polygon fill=\"lightblue\" stroke=\"black\" points=\"336.5,-393 282.5,-393 282.5,-363 336.5,-363 336.5,-393\"/>\n<text text-anchor=\"middle\" x=\"309.5\" y=\"-381\" font-family=\"monospace\" font-size=\"10.00\">x2</text>\n<text text-anchor=\"middle\" x=\"309.5\" y=\"-370\" font-family=\"monospace\" font-size=\"10.00\"> (1)</text>\n</g>\n<!-- 137076426775968&#45;&gt;137076426741872 -->\n<g id=\"edge9\" class=\"edge\">\n<title>137076426775968&#45;&gt;137076426741872</title>\n<path fill=\"none\" stroke=\"black\" d=\"M309.5,-362.84C309.5,-355.21 309.5,-345.7 309.5,-337.45\"/>\n<polygon fill=\"black\" stroke=\"black\" points=\"313,-337.27 309.5,-327.27 306,-337.27 313,-337.27\"/>\n</g>\n<!-- 137076426742112 -->\n<g id=\"node12\" class=\"node\">\n<title>137076426742112</title>\n<polygon fill=\"lightgrey\" stroke=\"black\" points=\"479,-327 378,-327 378,-308 479,-308 479,-327\"/>\n<text text-anchor=\"middle\" x=\"428.5\" y=\"-315\" font-family=\"monospace\" font-size=\"10.00\">AccumulateGrad</text>\n</g>\n<!-- 137076426742112&#45;&gt;137076426741968 -->\n<g id=\"edge10\" class=\"edge\">\n<title>137076426742112&#45;&gt;137076426741968</title>\n<path fill=\"none\" stroke=\"black\" d=\"M415.13,-307.98C403.12,-300.32 384.72,-288.58 367.26,-277.45\"/>\n<polygon fill=\"black\" stroke=\"black\" points=\"369.11,-274.48 358.79,-272.05 365.34,-280.38 369.11,-274.48\"/>\n</g>\n<!-- 137076426776208 -->\n<g id=\"node13\" class=\"node\">\n<title>137076426776208</title>\n<polygon fill=\"lightblue\" stroke=\"black\" points=\"455.5,-393 401.5,-393 401.5,-363 455.5,-363 455.5,-393\"/>\n<text text-anchor=\"middle\" x=\"428.5\" y=\"-381\" font-family=\"monospace\" font-size=\"10.00\">w2</text>\n<text text-anchor=\"middle\" x=\"428.5\" y=\"-370\" font-family=\"monospace\" font-size=\"10.00\"> (1)</text>\n</g>\n<!-- 137076426776208&#45;&gt;137076426742112 -->\n<g id=\"edge11\" class=\"edge\">\n<title>137076426776208&#45;&gt;137076426742112</title>\n<path fill=\"none\" stroke=\"black\" d=\"M428.5,-362.84C428.5,-355.21 428.5,-345.7 428.5,-337.45\"/>\n<polygon fill=\"black\" stroke=\"black\" points=\"432,-337.27 428.5,-327.27 425,-337.27 432,-337.27\"/>\n</g>\n<!-- 137076426740096 -->\n<g id=\"node14\" class=\"node\">\n<title>137076426740096</title>\n<polygon fill=\"lightgrey\" stroke=\"black\" points=\"485,-173 384,-173 384,-154 485,-154 485,-173\"/>\n<text text-anchor=\"middle\" x=\"434.5\" y=\"-161\" font-family=\"monospace\" font-size=\"10.00\">AccumulateGrad</text>\n</g>\n<!-- 137076426740096&#45;&gt;137076426742400 -->\n<g id=\"edge12\" class=\"edge\">\n<title>137076426740096&#45;&gt;137076426742400</title>\n<path fill=\"none\" stroke=\"black\" d=\"M427.73,-153.9C420.36,-144.53 408.19,-129.06 397.45,-115.4\"/>\n<polygon fill=\"black\" stroke=\"black\" points=\"399.94,-112.9 391,-107.21 394.44,-117.23 399.94,-112.9\"/>\n</g>\n<!-- 137076426776368 -->\n<g id=\"node15\" class=\"node\">\n<title>137076426776368</title>\n<polygon fill=\"lightblue\" stroke=\"black\" points=\"463.5,-261 409.5,-261 409.5,-231 463.5,-231 463.5,-261\"/>\n<text text-anchor=\"middle\" x=\"436.5\" y=\"-249\" font-family=\"monospace\" font-size=\"10.00\">b</text>\n<text text-anchor=\"middle\" x=\"436.5\" y=\"-238\" font-family=\"monospace\" font-size=\"10.00\"> (1)</text>\n</g>\n<!-- 137076426776368&#45;&gt;137076426740096 -->\n<g id=\"edge13\" class=\"edge\">\n<title>137076426776368&#45;&gt;137076426740096</title>\n<path fill=\"none\" stroke=\"black\" d=\"M436.15,-230.98C435.83,-217.9 435.34,-198.27 434.98,-183.73\"/>\n<polygon fill=\"black\" stroke=\"black\" points=\"438.47,-183.29 434.72,-173.38 431.47,-183.47 438.47,-183.29\"/>\n</g>\n</g>\n</svg>\n",
            "text/plain": [
              "<graphviz.graphs.Digraph at 0x7cab97b91990>"
            ]
          },
          "metadata": {},
          "execution_count": 6
        }
      ]
    },
    {
      "cell_type": "code",
      "source": [
        "n.backward()\n",
        "\n",
        "print('---')\n",
        "print(f'{x1.grad.item()=}, {w1.data.item()=}')\n",
        "print(f'{x2.grad.item()=}, {w2.data.item()=}')\n",
        "print(f'{w1.grad.item()=}, {x1.data.item()=}')\n",
        "print(f'{w2.grad.item()=}, {x2.data.item()=}')"
      ],
      "metadata": {
        "colab": {
          "base_uri": "https://localhost:8080/"
        },
        "id": "KZqM0lIaexuo",
        "outputId": "85c68005-7020-42c8-8aa0-f64b1bc1c92b"
      },
      "execution_count": 7,
      "outputs": [
        {
          "output_type": "stream",
          "name": "stdout",
          "text": [
            "---\n",
            "x1.grad.item()=-3.0, w1.data.item()=-3.0\n",
            "x2.grad.item()=1.0, w2.data.item()=1.0\n",
            "w1.grad.item()=2.0, x1.data.item()=2.0\n",
            "w2.grad.item()=0.0, x2.data.item()=0.0\n"
          ]
        }
      ]
    },
    {
      "cell_type": "markdown",
      "source": [
        "## Example 2"
      ],
      "metadata": {
        "id": "JlKUme4xjaMu"
      }
    },
    {
      "cell_type": "code",
      "execution_count": 51,
      "metadata": {
        "colab": {
          "base_uri": "https://localhost:8080/"
        },
        "id": "ZbWxd_Fbft5L",
        "outputId": "e42c612b-5719-4949-d976-b55582bb3abc"
      },
      "outputs": [
        {
          "output_type": "stream",
          "name": "stdout",
          "text": [
            "2.0\n"
          ]
        }
      ],
      "source": [
        "\n",
        "x1 = torch.Tensor([-3.0]).double()                ; x1.requires_grad = True\n",
        "w1 = torch.Tensor([3.0]).double()               ; w1.requires_grad = True\n",
        "w2 = torch.Tensor([2.0]).double()                ; w2.requires_grad = True\n",
        "b = torch.Tensor([-7.0]).double()  ; b.requires_grad = True\n",
        "n = w2*x1**2 + w1*x1 + b\n",
        "xGrad = (2*x1*w2 + w1).data.item()\n",
        "\n",
        "print(n.data.item())"
      ]
    },
    {
      "cell_type": "code",
      "source": [
        "dot = make_dot(n, params={\n",
        "    'x1': x1,\n",
        "    'w1': w1,\n",
        "    'w2': w2,\n",
        "    'b': b,\n",
        "    'n': n\n",
        "}, show_attrs=True)\n",
        "print(f'{x1.data.item()=}')\n",
        "print(f'{w1.data.item()=}')\n",
        "print(f'{w2.data.item()=}')\n",
        "print(f'{b.data.item()=}')\n",
        "print(f'{n.data.item()=}')\n",
        "dot.render(\"torch_graph\", format=\"png\")\n",
        "dot"
      ],
      "metadata": {
        "colab": {
          "base_uri": "https://localhost:8080/",
          "height": 775
        },
        "id": "pnRuHwdQjgak",
        "outputId": "76550956-2e6b-4e63-ed0d-6fe0adf5e2f7"
      },
      "execution_count": 52,
      "outputs": [
        {
          "output_type": "stream",
          "name": "stdout",
          "text": [
            "x1.data.item()=-3.0\n",
            "w1.data.item()=3.0\n",
            "w2.data.item()=2.0\n",
            "b.data.item()=-7.0\n",
            "n.data.item()=2.0\n"
          ]
        },
        {
          "output_type": "execute_result",
          "data": {
            "image/svg+xml": "<?xml version=\"1.0\" encoding=\"UTF-8\" standalone=\"no\"?>\n<!DOCTYPE svg PUBLIC \"-//W3C//DTD SVG 1.1//EN\"\n \"http://www.w3.org/Graphics/SVG/1.1/DTD/svg11.dtd\">\n<!-- Generated by graphviz version 2.43.0 (0)\n -->\n<!-- Title: %3 Pages: 1 -->\n<svg width=\"477pt\" height=\"500pt\"\n viewBox=\"0.00 0.00 477.00 500.00\" xmlns=\"http://www.w3.org/2000/svg\" xmlns:xlink=\"http://www.w3.org/1999/xlink\">\n<g id=\"graph0\" class=\"graph\" transform=\"scale(1 1) rotate(0) translate(4 496)\">\n<title>%3</title>\n<polygon fill=\"white\" stroke=\"transparent\" points=\"-4,4 -4,-496 473,-496 473,4 -4,4\"/>\n<!-- 137076414128880 -->\n<g id=\"node1\" class=\"node\">\n<title>137076414128880</title>\n<polygon fill=\"#caff70\" stroke=\"black\" points=\"388.5,-30 334.5,-30 334.5,0 388.5,0 388.5,-30\"/>\n<text text-anchor=\"middle\" x=\"361.5\" y=\"-18\" font-family=\"monospace\" font-size=\"10.00\">n</text>\n<text text-anchor=\"middle\" x=\"361.5\" y=\"-7\" font-family=\"monospace\" font-size=\"10.00\"> (1)</text>\n</g>\n<!-- 137076426748256 -->\n<g id=\"node2\" class=\"node\">\n<title>137076426748256</title>\n<polygon fill=\"lightgrey\" stroke=\"black\" points=\"406,-107 317,-107 317,-66 406,-66 406,-107\"/>\n<text text-anchor=\"middle\" x=\"361.5\" y=\"-95\" font-family=\"monospace\" font-size=\"10.00\">AddBackward0</text>\n<text text-anchor=\"middle\" x=\"361.5\" y=\"-84\" font-family=\"monospace\" font-size=\"10.00\">&#45;&#45;&#45;&#45;&#45;&#45;&#45;&#45;&#45;&#45;&#45;&#45;</text>\n<text text-anchor=\"middle\" x=\"361.5\" y=\"-73\" font-family=\"monospace\" font-size=\"10.00\">alpha: 1</text>\n</g>\n<!-- 137076426748256&#45;&gt;137076414128880 -->\n<g id=\"edge14\" class=\"edge\">\n<title>137076426748256&#45;&gt;137076414128880</title>\n<path fill=\"none\" stroke=\"black\" d=\"M361.5,-65.77C361.5,-57.85 361.5,-48.63 361.5,-40.3\"/>\n<polygon fill=\"black\" stroke=\"black\" points=\"365,-40.04 361.5,-30.04 358,-40.04 365,-40.04\"/>\n</g>\n<!-- 137076426738992 -->\n<g id=\"node3\" class=\"node\">\n<title>137076426738992</title>\n<polygon fill=\"lightgrey\" stroke=\"black\" points=\"350,-184 261,-184 261,-143 350,-143 350,-184\"/>\n<text text-anchor=\"middle\" x=\"305.5\" y=\"-172\" font-family=\"monospace\" font-size=\"10.00\">AddBackward0</text>\n<text text-anchor=\"middle\" x=\"305.5\" y=\"-161\" font-family=\"monospace\" font-size=\"10.00\">&#45;&#45;&#45;&#45;&#45;&#45;&#45;&#45;&#45;&#45;&#45;&#45;</text>\n<text text-anchor=\"middle\" x=\"305.5\" y=\"-150\" font-family=\"monospace\" font-size=\"10.00\">alpha: 1</text>\n</g>\n<!-- 137076426738992&#45;&gt;137076426748256 -->\n<g id=\"edge1\" class=\"edge\">\n<title>137076426738992&#45;&gt;137076426748256</title>\n<path fill=\"none\" stroke=\"black\" d=\"M320.21,-142.79C326.52,-134.35 333.99,-124.35 340.83,-115.18\"/>\n<polygon fill=\"black\" stroke=\"black\" points=\"343.71,-117.18 346.88,-107.07 338.1,-112.99 343.71,-117.18\"/>\n</g>\n<!-- 137076426750608 -->\n<g id=\"node4\" class=\"node\">\n<title>137076426750608</title>\n<polygon fill=\"lightgrey\" stroke=\"black\" points=\"271,-272 128,-272 128,-220 271,-220 271,-272\"/>\n<text text-anchor=\"middle\" x=\"199.5\" y=\"-260\" font-family=\"monospace\" font-size=\"10.00\">MulBackward0</text>\n<text text-anchor=\"middle\" x=\"199.5\" y=\"-249\" font-family=\"monospace\" font-size=\"10.00\">&#45;&#45;&#45;&#45;&#45;&#45;&#45;&#45;&#45;&#45;&#45;&#45;&#45;&#45;&#45;&#45;&#45;&#45;&#45;&#45;&#45;</text>\n<text text-anchor=\"middle\" x=\"199.5\" y=\"-238\" font-family=\"monospace\" font-size=\"10.00\">other: [saved tensor]</text>\n<text text-anchor=\"middle\" x=\"199.5\" y=\"-227\" font-family=\"monospace\" font-size=\"10.00\">self : [saved tensor]</text>\n</g>\n<!-- 137076426750608&#45;&gt;137076426738992 -->\n<g id=\"edge2\" class=\"edge\">\n<title>137076426750608&#45;&gt;137076426738992</title>\n<path fill=\"none\" stroke=\"black\" d=\"M232.46,-219.97C244.92,-210.51 259.12,-199.72 271.66,-190.2\"/>\n<polygon fill=\"black\" stroke=\"black\" points=\"273.78,-192.98 279.63,-184.15 269.55,-187.41 273.78,-192.98\"/>\n</g>\n<!-- 137076426745424 -->\n<g id=\"node5\" class=\"node\">\n<title>137076426745424</title>\n<polygon fill=\"lightgrey\" stroke=\"black\" points=\"101,-343.5 0,-343.5 0,-324.5 101,-324.5 101,-343.5\"/>\n<text text-anchor=\"middle\" x=\"50.5\" y=\"-331.5\" font-family=\"monospace\" font-size=\"10.00\">AccumulateGrad</text>\n</g>\n<!-- 137076426745424&#45;&gt;137076426750608 -->\n<g id=\"edge3\" class=\"edge\">\n<title>137076426745424&#45;&gt;137076426750608</title>\n<path fill=\"none\" stroke=\"black\" d=\"M65.33,-324.44C84.34,-313.47 118.32,-293.86 147.32,-277.12\"/>\n<polygon fill=\"black\" stroke=\"black\" points=\"149.23,-280.06 156.14,-272.03 145.73,-274 149.23,-280.06\"/>\n</g>\n<!-- 137076414130480 -->\n<g id=\"node6\" class=\"node\">\n<title>137076414130480</title>\n<polygon fill=\"lightblue\" stroke=\"black\" points=\"77.5,-426 23.5,-426 23.5,-396 77.5,-396 77.5,-426\"/>\n<text text-anchor=\"middle\" x=\"50.5\" y=\"-414\" font-family=\"monospace\" font-size=\"10.00\">w2</text>\n<text text-anchor=\"middle\" x=\"50.5\" y=\"-403\" font-family=\"monospace\" font-size=\"10.00\"> (1)</text>\n</g>\n<!-- 137076414130480&#45;&gt;137076426745424 -->\n<g id=\"edge4\" class=\"edge\">\n<title>137076414130480&#45;&gt;137076426745424</title>\n<path fill=\"none\" stroke=\"black\" d=\"M50.5,-395.89C50.5,-384.08 50.5,-367.1 50.5,-354.08\"/>\n<polygon fill=\"black\" stroke=\"black\" points=\"54,-353.87 50.5,-343.87 47,-353.87 54,-353.87\"/>\n</g>\n<!-- 137076426748208 -->\n<g id=\"node7\" class=\"node\">\n<title>137076426748208</title>\n<polygon fill=\"lightgrey\" stroke=\"black\" points=\"280,-360 119,-360 119,-308 280,-308 280,-360\"/>\n<text text-anchor=\"middle\" x=\"199.5\" y=\"-348\" font-family=\"monospace\" font-size=\"10.00\">PowBackward0</text>\n<text text-anchor=\"middle\" x=\"199.5\" y=\"-337\" font-family=\"monospace\" font-size=\"10.00\">&#45;&#45;&#45;&#45;&#45;&#45;&#45;&#45;&#45;&#45;&#45;&#45;&#45;&#45;&#45;&#45;&#45;&#45;&#45;&#45;&#45;&#45;&#45;&#45;</text>\n<text text-anchor=\"middle\" x=\"199.5\" y=\"-326\" font-family=\"monospace\" font-size=\"10.00\">exponent: &#160;&#160;&#160;&#160;&#160;&#160;&#160;&#160;&#160;&#160;&#160;&#160;&#160;2</text>\n<text text-anchor=\"middle\" x=\"199.5\" y=\"-315\" font-family=\"monospace\" font-size=\"10.00\">self &#160;&#160;&#160;: [saved tensor]</text>\n</g>\n<!-- 137076426748208&#45;&gt;137076426750608 -->\n<g id=\"edge5\" class=\"edge\">\n<title>137076426748208&#45;&gt;137076426750608</title>\n<path fill=\"none\" stroke=\"black\" d=\"M199.5,-307.66C199.5,-299.7 199.5,-290.76 199.5,-282.24\"/>\n<polygon fill=\"black\" stroke=\"black\" points=\"203,-282.16 199.5,-272.16 196,-282.16 203,-282.16\"/>\n</g>\n<!-- 137076426743120 -->\n<g id=\"node8\" class=\"node\">\n<title>137076426743120</title>\n<polygon fill=\"lightgrey\" stroke=\"black\" points=\"275,-420.5 174,-420.5 174,-401.5 275,-401.5 275,-420.5\"/>\n<text text-anchor=\"middle\" x=\"224.5\" y=\"-408.5\" font-family=\"monospace\" font-size=\"10.00\">AccumulateGrad</text>\n</g>\n<!-- 137076426743120&#45;&gt;137076426748208 -->\n<g id=\"edge6\" class=\"edge\">\n<title>137076426743120&#45;&gt;137076426748208</title>\n<path fill=\"none\" stroke=\"black\" d=\"M221.63,-401.4C219.03,-393.58 215.01,-381.52 211.1,-369.8\"/>\n<polygon fill=\"black\" stroke=\"black\" points=\"214.37,-368.53 207.88,-360.15 207.73,-370.74 214.37,-368.53\"/>\n</g>\n<!-- 137076426747968 -->\n<g id=\"node10\" class=\"node\">\n<title>137076426747968</title>\n<polygon fill=\"lightgrey\" stroke=\"black\" points=\"441,-360 298,-360 298,-308 441,-308 441,-360\"/>\n<text text-anchor=\"middle\" x=\"369.5\" y=\"-348\" font-family=\"monospace\" font-size=\"10.00\">MulBackward0</text>\n<text text-anchor=\"middle\" x=\"369.5\" y=\"-337\" font-family=\"monospace\" font-size=\"10.00\">&#45;&#45;&#45;&#45;&#45;&#45;&#45;&#45;&#45;&#45;&#45;&#45;&#45;&#45;&#45;&#45;&#45;&#45;&#45;&#45;&#45;</text>\n<text text-anchor=\"middle\" x=\"369.5\" y=\"-326\" font-family=\"monospace\" font-size=\"10.00\">other: [saved tensor]</text>\n<text text-anchor=\"middle\" x=\"369.5\" y=\"-315\" font-family=\"monospace\" font-size=\"10.00\">self : [saved tensor]</text>\n</g>\n<!-- 137076426743120&#45;&gt;137076426747968 -->\n<g id=\"edge11\" class=\"edge\">\n<title>137076426743120&#45;&gt;137076426747968</title>\n<path fill=\"none\" stroke=\"black\" d=\"M241.13,-401.4C258.43,-392.45 286.51,-377.93 311.99,-364.75\"/>\n<polygon fill=\"black\" stroke=\"black\" points=\"313.6,-367.85 320.88,-360.15 310.39,-361.64 313.6,-367.85\"/>\n</g>\n<!-- 137076414130640 -->\n<g id=\"node9\" class=\"node\">\n<title>137076414130640</title>\n<polygon fill=\"lightblue\" stroke=\"black\" points=\"251.5,-492 197.5,-492 197.5,-462 251.5,-462 251.5,-492\"/>\n<text text-anchor=\"middle\" x=\"224.5\" y=\"-480\" font-family=\"monospace\" font-size=\"10.00\">x1</text>\n<text text-anchor=\"middle\" x=\"224.5\" y=\"-469\" font-family=\"monospace\" font-size=\"10.00\"> (1)</text>\n</g>\n<!-- 137076414130640&#45;&gt;137076426743120 -->\n<g id=\"edge7\" class=\"edge\">\n<title>137076414130640&#45;&gt;137076426743120</title>\n<path fill=\"none\" stroke=\"black\" d=\"M224.5,-461.8C224.5,-452.7 224.5,-440.79 224.5,-430.9\"/>\n<polygon fill=\"black\" stroke=\"black\" points=\"228,-430.84 224.5,-420.84 221,-430.84 228,-430.84\"/>\n</g>\n<!-- 137076426747968&#45;&gt;137076426738992 -->\n<g id=\"edge8\" class=\"edge\">\n<title>137076426747968&#45;&gt;137076426738992</title>\n<path fill=\"none\" stroke=\"black\" d=\"M359.92,-307.77C348.34,-277.29 328.89,-226.08 316.65,-193.85\"/>\n<polygon fill=\"black\" stroke=\"black\" points=\"319.77,-192.21 312.95,-184.11 313.23,-194.7 319.77,-192.21\"/>\n</g>\n<!-- 137076426742736 -->\n<g id=\"node11\" class=\"node\">\n<title>137076426742736</title>\n<polygon fill=\"lightgrey\" stroke=\"black\" points=\"420,-420.5 319,-420.5 319,-401.5 420,-401.5 420,-420.5\"/>\n<text text-anchor=\"middle\" x=\"369.5\" y=\"-408.5\" font-family=\"monospace\" font-size=\"10.00\">AccumulateGrad</text>\n</g>\n<!-- 137076426742736&#45;&gt;137076426747968 -->\n<g id=\"edge9\" class=\"edge\">\n<title>137076426742736&#45;&gt;137076426747968</title>\n<path fill=\"none\" stroke=\"black\" d=\"M369.5,-401.4C369.5,-393.66 369.5,-381.76 369.5,-370.16\"/>\n<polygon fill=\"black\" stroke=\"black\" points=\"373,-370.15 369.5,-360.15 366,-370.15 373,-370.15\"/>\n</g>\n<!-- 137076414125920 -->\n<g id=\"node12\" class=\"node\">\n<title>137076414125920</title>\n<polygon fill=\"lightblue\" stroke=\"black\" points=\"396.5,-492 342.5,-492 342.5,-462 396.5,-462 396.5,-492\"/>\n<text text-anchor=\"middle\" x=\"369.5\" y=\"-480\" font-family=\"monospace\" font-size=\"10.00\">w1</text>\n<text text-anchor=\"middle\" x=\"369.5\" y=\"-469\" font-family=\"monospace\" font-size=\"10.00\"> (1)</text>\n</g>\n<!-- 137076414125920&#45;&gt;137076426742736 -->\n<g id=\"edge10\" class=\"edge\">\n<title>137076414125920&#45;&gt;137076426742736</title>\n<path fill=\"none\" stroke=\"black\" d=\"M369.5,-461.8C369.5,-452.7 369.5,-440.79 369.5,-430.9\"/>\n<polygon fill=\"black\" stroke=\"black\" points=\"373,-430.84 369.5,-420.84 366,-430.84 373,-430.84\"/>\n</g>\n<!-- 137076426750704 -->\n<g id=\"node13\" class=\"node\">\n<title>137076426750704</title>\n<polygon fill=\"lightgrey\" stroke=\"black\" points=\"469,-173 368,-173 368,-154 469,-154 469,-173\"/>\n<text text-anchor=\"middle\" x=\"418.5\" y=\"-161\" font-family=\"monospace\" font-size=\"10.00\">AccumulateGrad</text>\n</g>\n<!-- 137076426750704&#45;&gt;137076426748256 -->\n<g id=\"edge12\" class=\"edge\">\n<title>137076426750704&#45;&gt;137076426748256</title>\n<path fill=\"none\" stroke=\"black\" d=\"M411.96,-153.9C404.84,-144.53 393.08,-129.06 382.71,-115.4\"/>\n<polygon fill=\"black\" stroke=\"black\" points=\"385.32,-113.05 376.48,-107.21 379.74,-117.29 385.32,-113.05\"/>\n</g>\n<!-- 137076414121760 -->\n<g id=\"node14\" class=\"node\">\n<title>137076414121760</title>\n<polygon fill=\"lightblue\" stroke=\"black\" points=\"445.5,-261 391.5,-261 391.5,-231 445.5,-231 445.5,-261\"/>\n<text text-anchor=\"middle\" x=\"418.5\" y=\"-249\" font-family=\"monospace\" font-size=\"10.00\">b</text>\n<text text-anchor=\"middle\" x=\"418.5\" y=\"-238\" font-family=\"monospace\" font-size=\"10.00\"> (1)</text>\n</g>\n<!-- 137076414121760&#45;&gt;137076426750704 -->\n<g id=\"edge13\" class=\"edge\">\n<title>137076414121760&#45;&gt;137076426750704</title>\n<path fill=\"none\" stroke=\"black\" d=\"M418.5,-230.98C418.5,-217.9 418.5,-198.27 418.5,-183.73\"/>\n<polygon fill=\"black\" stroke=\"black\" points=\"422,-183.38 418.5,-173.38 415,-183.38 422,-183.38\"/>\n</g>\n</g>\n</svg>\n",
            "text/plain": [
              "<graphviz.graphs.Digraph at 0x7cab97b93d30>"
            ]
          },
          "metadata": {},
          "execution_count": 52
        }
      ]
    },
    {
      "cell_type": "code",
      "source": [
        "n.backward(retain_graph=True)\n",
        "print(f'{x1.data.item()=}')\n",
        "print(f'{w1.data.item()=}')\n",
        "print(f'{w2.data.item()=}')\n",
        "print(f'{b.data.item()=}')\n",
        "print(f'{n.data.item()=}')\n",
        "print(f'{(w2*x1**2 + w1*x1 + b).data.item()=}')\n",
        "print('---')\n",
        "print('x1.grad', x1.grad.item(), f'{(w2*x1**2 + w1*x1 + b).data.item()=}')\n",
        "print('w1.grad', w1.grad.item())\n",
        "print('w2.grad', w2.grad.item())\n",
        "print('b.grad', b.grad.item())"
      ],
      "metadata": {
        "colab": {
          "base_uri": "https://localhost:8080/"
        },
        "id": "n36H5Pu5j1PC",
        "outputId": "5df5512e-5fb0-4de7-857a-00edef8b0380"
      },
      "execution_count": 53,
      "outputs": [
        {
          "output_type": "stream",
          "name": "stdout",
          "text": [
            "x1.data.item()=-3.0\n",
            "w1.data.item()=3.0\n",
            "w2.data.item()=2.0\n",
            "b.data.item()=-7.0\n",
            "n.data.item()=2.0\n",
            "(w2*x1**2 + w1*x1 + b).data.item()=2.0\n",
            "---\n",
            "x1.grad -9.0 (w2*x1**2 + w1*x1 + b).data.item()=2.0\n",
            "w1.grad -3.0\n",
            "w2.grad 9.0\n",
            "b.grad 1.0\n"
          ]
        }
      ]
    }
  ],
  "metadata": {
    "kernelspec": {
      "display_name": "Python 3",
      "language": "python",
      "name": "python3"
    },
    "language_info": {
      "codemirror_mode": {
        "name": "ipython",
        "version": 3
      },
      "file_extension": ".py",
      "mimetype": "text/x-python",
      "name": "python",
      "nbconvert_exporter": "python",
      "pygments_lexer": "ipython3",
      "version": "3.8.5"
    },
    "colab": {
      "provenance": [],
      "include_colab_link": true
    }
  },
  "nbformat": 4,
  "nbformat_minor": 0
}