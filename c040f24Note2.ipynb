{
  "nbformat": 4,
  "nbformat_minor": 0,
  "metadata": {
    "colab": {
      "provenance": [],
      "authorship_tag": "ABX9TyMZ215QLa9KjVgOVolhcguQ",
      "include_colab_link": true
    },
    "kernelspec": {
      "name": "python3",
      "display_name": "Python 3"
    },
    "language_info": {
      "name": "python"
    }
  },
  "cells": [
    {
      "cell_type": "markdown",
      "metadata": {
        "id": "view-in-github",
        "colab_type": "text"
      },
      "source": [
        "<a href=\"https://colab.research.google.com/github/everestso/Fall24Spring25/blob/main/c040f24Note2.ipynb\" target=\"_parent\"><img src=\"https://colab.research.google.com/assets/colab-badge.svg\" alt=\"Open In Colab\"/></a>"
      ]
    },
    {
      "cell_type": "code",
      "execution_count": 1,
      "metadata": {
        "colab": {
          "base_uri": "https://localhost:8080/"
        },
        "id": "ocFP11IzkVju",
        "outputId": "57b34952-3ed5-4da1-96e4-c2cd1e648511"
      },
      "outputs": [
        {
          "output_type": "stream",
          "name": "stdout",
          "text": [
            "Salary is 40000\n"
          ]
        }
      ],
      "source": [
        "# prompt: Convert the following c++ program into a python program, and provide a detailed explanation of the python code: #include using namespace std;\n",
        "# int main() { int wage = 20;\n",
        "# cout << \"Salary is \"; cout << wage * 40 * 50; cout << endl;\n",
        "# return 0; }\n",
        "\n",
        "# In Python, we don't need to include namespaces or declare a main function.\n",
        "# The code directly executes from top to bottom.\n",
        "\n",
        "wage = 20  # Define the hourly wage\n",
        "salary = wage * 40 * 50  # Calculate the annual salary (assuming 40 hours/week, 50 weeks/year)\n",
        "print(\"Salary is\", salary)  # Print the result\n",
        "\n",
        "# Explanation:\n",
        "# - wage: This variable stores the hourly wage, which is 20.\n",
        "# - salary: This variable calculates the annual salary by multiplying the hourly wage by the number of hours worked per week and the number of weeks worked per year.\n",
        "# - print(): This function displays the calculated salary to the console.\n"
      ]
    }
  ]
}